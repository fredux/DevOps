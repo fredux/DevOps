{
  "nbformat": 4,
  "nbformat_minor": 0,
  "metadata": {
    "colab": {
      "name": "Operacoes_avancadas_DF_Pyspark.ipynb",
      "provenance": [],
      "include_colab_link": true
    },
    "kernelspec": {
      "name": "python3",
      "display_name": "Python 3"
    }
  },
  "cells": [
    {
      "cell_type": "markdown",
      "metadata": {
        "id": "view-in-github",
        "colab_type": "text"
      },
      "source": [
        "<a href=\"https://colab.research.google.com/github/fredux/DevOps/blob/main/Operacoes_avancadas_DF_Pyspark.ipynb\" target=\"_parent\"><img src=\"https://colab.research.google.com/assets/colab-badge.svg\" alt=\"Open In Colab\"/></a>"
      ]
    },
    {
      "cell_type": "code",
      "metadata": {
        "id": "6TLv8w3ulNz1",
        "outputId": "4f33d596-d1c3-40ef-b771-8e500ef5d3bd",
        "colab": {
          "base_uri": "https://localhost:8080/"
        }
      },
      "source": [
        "! pip install pyspark"
      ],
      "execution_count": null,
      "outputs": [
        {
          "output_type": "stream",
          "text": [
            "Collecting pyspark\n",
            "\u001b[?25l  Downloading https://files.pythonhosted.org/packages/f0/26/198fc8c0b98580f617cb03cb298c6056587b8f0447e20fa40c5b634ced77/pyspark-3.0.1.tar.gz (204.2MB)\n",
            "\u001b[K     |████████████████████████████████| 204.2MB 69kB/s \n",
            "\u001b[?25hCollecting py4j==0.10.9\n",
            "\u001b[?25l  Downloading https://files.pythonhosted.org/packages/9e/b6/6a4fb90cd235dc8e265a6a2067f2a2c99f0d91787f06aca4bcf7c23f3f80/py4j-0.10.9-py2.py3-none-any.whl (198kB)\n",
            "\u001b[K     |████████████████████████████████| 204kB 42.8MB/s \n",
            "\u001b[?25hBuilding wheels for collected packages: pyspark\n",
            "  Building wheel for pyspark (setup.py) ... \u001b[?25l\u001b[?25hdone\n",
            "  Created wheel for pyspark: filename=pyspark-3.0.1-py2.py3-none-any.whl size=204612243 sha256=615f3d0d9c178d01f395e15d3fdba7a55d2583e8fd58e6ee9177ad37e18f1564\n",
            "  Stored in directory: /root/.cache/pip/wheels/5e/bd/07/031766ca628adec8435bb40f0bd83bb676ce65ff4007f8e73f\n",
            "Successfully built pyspark\n",
            "Installing collected packages: py4j, pyspark\n",
            "Successfully installed py4j-0.10.9 pyspark-3.0.1\n"
          ],
          "name": "stdout"
        }
      ]
    },
    {
      "cell_type": "code",
      "metadata": {
        "id": "O65WAkLYlUBb"
      },
      "source": [
        "from pyspark.sql import SparkSession"
      ],
      "execution_count": null,
      "outputs": []
    },
    {
      "cell_type": "code",
      "metadata": {
        "id": "CPMZjLp5lY_M"
      },
      "source": [
        "spark = SparkSession.builder.appName(\"Operacoes avancadas\").getOrCreate()"
      ],
      "execution_count": null,
      "outputs": []
    },
    {
      "cell_type": "code",
      "metadata": {
        "id": "qzOcESNGlg3r",
        "outputId": "97629cf5-2012-42c1-b080-8c1a69f70bd3",
        "colab": {
          "base_uri": "https://localhost:8080/"
        }
      },
      "source": [
        "! git clone https://github.com/leonardoamorim/aulapython.git"
      ],
      "execution_count": null,
      "outputs": [
        {
          "output_type": "stream",
          "text": [
            "Cloning into 'aulapython'...\n",
            "remote: Enumerating objects: 51, done.\u001b[K\n",
            "remote: Counting objects: 100% (51/51), done.\u001b[K\n",
            "remote: Compressing objects: 100% (51/51), done.\u001b[K\n",
            "remote: Total 51 (delta 17), reused 0 (delta 0), pack-reused 0\u001b[K\n",
            "Unpacking objects: 100% (51/51), done.\n"
          ],
          "name": "stdout"
        }
      ]
    },
    {
      "cell_type": "code",
      "metadata": {
        "id": "qpWUyd4glsr_",
        "outputId": "85978224-5583-4412-cb83-053e125fae7e",
        "colab": {
          "base_uri": "https://localhost:8080/"
        }
      },
      "source": [
        "! ls aulapython "
      ],
      "execution_count": null,
      "outputs": [
        {
          "output_type": "stream",
          "text": [
            " airlinedelaycauses_DelayedFlights.csv.part01.rar\n",
            " airlinedelaycauses_DelayedFlights.csv.part02.rar\n",
            " airlinedelaycauses_DelayedFlights.csv.part03.rar\n",
            " class_summary_statistics_asyncio.py\n",
            " class_summary_statistics_numba.py\n",
            " class_summary_statistics.py\n",
            " colaboradores.csv\n",
            " colaboradores_data_missing.csv\n",
            " exercicio_01.py\n",
            " funcionarios.json\n",
            "'HPC_com_Python_para_Big_Data_lab_vecAdd_PyCUDA (1).ipynb'\n",
            " IRIS.csv\n",
            " iris.data\n",
            " KNN-RegressaoLogistica.ipynb\n",
            " NASA_access_log_Aug95.gz\n",
            " NASA_access_log_Jul95.gz\n",
            "'Operações avançadas com DataFrame usando PySpark.ipynb'\n",
            "'Operacoes com dados faltantes.ipynb'\n",
            "'Operacoes com Datas e Timestamps.ipynb'\n",
            "'Pandas - Intro.ipynb'\n",
            " programa1.py\n",
            " programa2.py\n",
            " programa3.py\n",
            "'Pyspark - Operações Básicas com DF.ipynb'\n",
            "' Python para Big Data - Introdução a Programação Funcional com Python Funções Lambda em Python.ipynb'\n",
            "'RAPIDS(1).ipynb'\n",
            " Regressão_linear_com_Python.ipynb\n",
            " Regressão_logística_com_Python.ipynb\n",
            " titanic_test.csv\n",
            " titanic_train.csv\n",
            " Tutorial_Cuda_no_Colab.ipynb\n",
            " USA_Housing.csv\n",
            " Visualizacao-de-Dados-Dataset-Iris.ipynb\n"
          ],
          "name": "stdout"
        }
      ]
    },
    {
      "cell_type": "code",
      "metadata": {
        "id": "aHkC3nOslwB4",
        "outputId": "8eddd8e8-dd2c-4fd9-bbb2-78c42db1fd27",
        "colab": {
          "base_uri": "https://localhost:8080/"
        }
      },
      "source": [
        "! head -n 5 aulapython/colaboradores.csv"
      ],
      "execution_count": null,
      "outputs": [
        {
          "output_type": "stream",
          "text": [
            "id,nome,cargo,salario,departamento,datadeadmissao\n",
            "1,\"Marcio Santos\",\"Analista\",5000.00,\"Projetos\",2010-01-04\n",
            "2,\"Bruno Garcia\",\"Instrutor\",4000.00,\"Treinamento\",2010-01-06\n",
            "3,\"Celia Silva\",\"Vendedora\",3500.00,\"Vendas\",2011-02-07\n",
            "4,\"Beatriz Dias\",\"Gerencia\",5500.00,\"Recursos Humanos\",2011-09-22\n"
          ],
          "name": "stdout"
        }
      ]
    },
    {
      "cell_type": "code",
      "metadata": {
        "id": "fRrdetS5l2kd"
      },
      "source": [
        "df = spark.read.csv('aulapython/colaboradores.csv', inferSchema=True, header=True)"
      ],
      "execution_count": null,
      "outputs": []
    },
    {
      "cell_type": "code",
      "metadata": {
        "id": "lJyR4WrwmKsW",
        "outputId": "29fc7eb1-4896-49eb-af76-fc8d32ed94f4",
        "colab": {
          "base_uri": "https://localhost:8080/"
        }
      },
      "source": [
        "df.printSchema()"
      ],
      "execution_count": null,
      "outputs": [
        {
          "output_type": "stream",
          "text": [
            "root\n",
            " |-- id: integer (nullable = true)\n",
            " |-- nome: string (nullable = true)\n",
            " |-- cargo: string (nullable = true)\n",
            " |-- salario: double (nullable = true)\n",
            " |-- departamento: string (nullable = true)\n",
            " |-- datadeadmissao: string (nullable = true)\n",
            "\n"
          ],
          "name": "stdout"
        }
      ]
    },
    {
      "cell_type": "code",
      "metadata": {
        "id": "z_VzqEdvmRy5",
        "outputId": "be8d82f8-03c6-4536-8087-17c63cd10409",
        "colab": {
          "base_uri": "https://localhost:8080/"
        }
      },
      "source": [
        "df.show()"
      ],
      "execution_count": null,
      "outputs": [
        {
          "output_type": "stream",
          "text": [
            "+---+---------------+---------+-------+----------------+--------------+\n",
            "| id|           nome|    cargo|salario|    departamento|datadeadmissao|\n",
            "+---+---------------+---------+-------+----------------+--------------+\n",
            "|  1|  Marcio Santos| Analista| 5000.0|        Projetos|    2010-01-04|\n",
            "|  2|   Bruno Garcia|Instrutor| 4000.0|     Treinamento|    2010-01-06|\n",
            "|  3|    Celia Silva|Vendedora| 3500.0|          Vendas|    2011-02-07|\n",
            "|  4|   Beatriz Dias| Gerencia| 5500.0|Recursos Humanos|    2011-09-22|\n",
            "|  5| Sandro Correia|Instrutor| 4200.0|     Treinamento|    2012-02-15|\n",
            "|  6|   Leticia Dias| Analista| 5100.0|        Projetos|    2012-04-26|\n",
            "|  7|   Cacio Farias| Analista| 5100.0|        Projetos|    2012-10-25|\n",
            "|  8|     Cezar Maia| Gerencia| 7000.0|   Administracao|    2014-02-21|\n",
            "|  9|   Amanda Nunes|Vendedora| 3500.0|          Vendas|    2014-02-28|\n",
            "| 10|   Paula Priore|Vendedora| 3500.0|          Vendas|    2014-03-07|\n",
            "| 11|     Carla Neto| Analista| 4000.0|        Projetos|    2015-02-17|\n",
            "| 12|   Marcia Costa|Vendedora| 2700.0|          Vendas|    2015-02-17|\n",
            "| 13|  Luciana Prado| Analista| 4100.0|Recursos Humanos|    2015-09-17|\n",
            "| 14| Roberta Amaral|Vendedora| 2800.0|          Vendas|    2015-10-17|\n",
            "| 15|Rogerio Ribeiro|Instrutor| 4000.0|     Treinamento|    2010-08-04|\n",
            "| 16|   Rosana Rocha|Vendedora| 3000.0|          Vendas|    2010-09-04|\n",
            "| 17|Claudio Queiroz| Analista| 6500.0|        Projetos|    2011-01-04|\n",
            "| 18|   Diego Chaves| Gerencia| 7500.0|   Administracao|    2009-10-25|\n",
            "| 19|Sergio Nogueira|Instrutor| 5300.0|     Treinamento|    2008-10-25|\n",
            "| 20|  Samantha Reis|Vendedora| 4000.0|          Vendas|    2007-12-03|\n",
            "+---+---------------+---------+-------+----------------+--------------+\n",
            "\n"
          ],
          "name": "stdout"
        }
      ]
    },
    {
      "cell_type": "code",
      "metadata": {
        "id": "btnsX6mFmWOj",
        "outputId": "67f2ee07-34ea-4eff-ceff-f9ab056a4934",
        "colab": {
          "base_uri": "https://localhost:8080/"
        }
      },
      "source": [
        "df.filter(\"salario < 3000\").show()"
      ],
      "execution_count": null,
      "outputs": [
        {
          "output_type": "stream",
          "text": [
            "+---+--------------+---------+-------+------------+--------------+\n",
            "| id|          nome|    cargo|salario|departamento|datadeadmissao|\n",
            "+---+--------------+---------+-------+------------+--------------+\n",
            "| 12|  Marcia Costa|Vendedora| 2700.0|      Vendas|    2015-02-17|\n",
            "| 14|Roberta Amaral|Vendedora| 2800.0|      Vendas|    2015-10-17|\n",
            "+---+--------------+---------+-------+------------+--------------+\n",
            "\n"
          ],
          "name": "stdout"
        }
      ]
    },
    {
      "cell_type": "code",
      "metadata": {
        "id": "jmdLy8W5mcbn",
        "outputId": "cbcd596c-3559-42dc-c4bf-d4f80e4c1acb",
        "colab": {
          "base_uri": "https://localhost:8080/"
        }
      },
      "source": [
        "df.filter(\"salario < 3000\").select('datadeadmissao').show()"
      ],
      "execution_count": null,
      "outputs": [
        {
          "output_type": "stream",
          "text": [
            "+--------------+\n",
            "|datadeadmissao|\n",
            "+--------------+\n",
            "|    2015-02-17|\n",
            "|    2015-10-17|\n",
            "+--------------+\n",
            "\n"
          ],
          "name": "stdout"
        }
      ]
    },
    {
      "cell_type": "code",
      "metadata": {
        "id": "S3y5wGB9mj5z",
        "outputId": "0a5d7a0b-ce91-48d3-c87c-8f9c359bcf84",
        "colab": {
          "base_uri": "https://localhost:8080/"
        }
      },
      "source": [
        "df.filter( (df['salario'] > 3000) & (df['salario'] < 4000) ).show()"
      ],
      "execution_count": null,
      "outputs": [
        {
          "output_type": "stream",
          "text": [
            "+---+------------+---------+-------+------------+--------------+\n",
            "| id|        nome|    cargo|salario|departamento|datadeadmissao|\n",
            "+---+------------+---------+-------+------------+--------------+\n",
            "|  3| Celia Silva|Vendedora| 3500.0|      Vendas|    2011-02-07|\n",
            "|  9|Amanda Nunes|Vendedora| 3500.0|      Vendas|    2014-02-28|\n",
            "| 10|Paula Priore|Vendedora| 3500.0|      Vendas|    2014-03-07|\n",
            "+---+------------+---------+-------+------------+--------------+\n",
            "\n"
          ],
          "name": "stdout"
        }
      ]
    },
    {
      "cell_type": "code",
      "metadata": {
        "id": "IUZCLrcom6y1",
        "outputId": "f605369d-a152-4069-fc18-a6a6f72db51b",
        "colab": {
          "base_uri": "https://localhost:8080/"
        }
      },
      "source": [
        "df.groupBy(\"departamento\").count().show()"
      ],
      "execution_count": null,
      "outputs": [
        {
          "output_type": "stream",
          "text": [
            "+----------------+-----+\n",
            "|    departamento|count|\n",
            "+----------------+-----+\n",
            "|Recursos Humanos|    2|\n",
            "|        Projetos|    5|\n",
            "|          Vendas|    7|\n",
            "|   Administracao|    2|\n",
            "|     Treinamento|    4|\n",
            "+----------------+-----+\n",
            "\n"
          ],
          "name": "stdout"
        }
      ]
    },
    {
      "cell_type": "code",
      "metadata": {
        "id": "-dvxNumcnJXY",
        "outputId": "11780029-659f-4471-e284-63a4bb0b2888",
        "colab": {
          "base_uri": "https://localhost:8080/"
        }
      },
      "source": [
        "df.groupBy(\"departamento\").agg({'salario': 'mean'}).show()"
      ],
      "execution_count": null,
      "outputs": [
        {
          "output_type": "stream",
          "text": [
            "+----------------+-----------------+\n",
            "|    departamento|     avg(salario)|\n",
            "+----------------+-----------------+\n",
            "|Recursos Humanos|           4800.0|\n",
            "|        Projetos|           5140.0|\n",
            "|          Vendas|3285.714285714286|\n",
            "|   Administracao|           7250.0|\n",
            "|     Treinamento|           4375.0|\n",
            "+----------------+-----------------+\n",
            "\n"
          ],
          "name": "stdout"
        }
      ]
    },
    {
      "cell_type": "code",
      "metadata": {
        "id": "Wh1b8RfZnWm4",
        "outputId": "a510d6b1-1d04-405e-819f-c3c25e48deac",
        "colab": {
          "base_uri": "https://localhost:8080/"
        }
      },
      "source": [
        "df.groupBy(\"departamento\").agg({'salario': 'min'}).show()"
      ],
      "execution_count": null,
      "outputs": [
        {
          "output_type": "stream",
          "text": [
            "+----------------+------------+\n",
            "|    departamento|min(salario)|\n",
            "+----------------+------------+\n",
            "|Recursos Humanos|      4100.0|\n",
            "|        Projetos|      4000.0|\n",
            "|          Vendas|      2700.0|\n",
            "|   Administracao|      7000.0|\n",
            "|     Treinamento|      4000.0|\n",
            "+----------------+------------+\n",
            "\n"
          ],
          "name": "stdout"
        }
      ]
    },
    {
      "cell_type": "code",
      "metadata": {
        "id": "YTAKPoYXna56",
        "outputId": "42c9f4c3-064f-45f6-c74c-41718be1d5b8",
        "colab": {
          "base_uri": "https://localhost:8080/"
        }
      },
      "source": [
        "df.groupBy(\"departamento\").agg({'salario': 'max'}).show()"
      ],
      "execution_count": null,
      "outputs": [
        {
          "output_type": "stream",
          "text": [
            "+----------------+------------+\n",
            "|    departamento|max(salario)|\n",
            "+----------------+------------+\n",
            "|Recursos Humanos|      5500.0|\n",
            "|        Projetos|      6500.0|\n",
            "|          Vendas|      4000.0|\n",
            "|   Administracao|      7500.0|\n",
            "|     Treinamento|      5300.0|\n",
            "+----------------+------------+\n",
            "\n"
          ],
          "name": "stdout"
        }
      ]
    },
    {
      "cell_type": "code",
      "metadata": {
        "id": "tUwqItyVngMl",
        "outputId": "f8593651-8031-47ce-f013-d5c132ff2597",
        "colab": {
          "base_uri": "https://localhost:8080/"
        }
      },
      "source": [
        "df.orderBy('salario').show()"
      ],
      "execution_count": null,
      "outputs": [
        {
          "output_type": "stream",
          "text": [
            "+---+---------------+---------+-------+----------------+--------------+\n",
            "| id|           nome|    cargo|salario|    departamento|datadeadmissao|\n",
            "+---+---------------+---------+-------+----------------+--------------+\n",
            "| 12|   Marcia Costa|Vendedora| 2700.0|          Vendas|    2015-02-17|\n",
            "| 14| Roberta Amaral|Vendedora| 2800.0|          Vendas|    2015-10-17|\n",
            "| 16|   Rosana Rocha|Vendedora| 3000.0|          Vendas|    2010-09-04|\n",
            "|  3|    Celia Silva|Vendedora| 3500.0|          Vendas|    2011-02-07|\n",
            "| 10|   Paula Priore|Vendedora| 3500.0|          Vendas|    2014-03-07|\n",
            "|  9|   Amanda Nunes|Vendedora| 3500.0|          Vendas|    2014-02-28|\n",
            "|  2|   Bruno Garcia|Instrutor| 4000.0|     Treinamento|    2010-01-06|\n",
            "| 11|     Carla Neto| Analista| 4000.0|        Projetos|    2015-02-17|\n",
            "| 20|  Samantha Reis|Vendedora| 4000.0|          Vendas|    2007-12-03|\n",
            "| 15|Rogerio Ribeiro|Instrutor| 4000.0|     Treinamento|    2010-08-04|\n",
            "| 13|  Luciana Prado| Analista| 4100.0|Recursos Humanos|    2015-09-17|\n",
            "|  5| Sandro Correia|Instrutor| 4200.0|     Treinamento|    2012-02-15|\n",
            "|  1|  Marcio Santos| Analista| 5000.0|        Projetos|    2010-01-04|\n",
            "|  7|   Cacio Farias| Analista| 5100.0|        Projetos|    2012-10-25|\n",
            "|  6|   Leticia Dias| Analista| 5100.0|        Projetos|    2012-04-26|\n",
            "| 19|Sergio Nogueira|Instrutor| 5300.0|     Treinamento|    2008-10-25|\n",
            "|  4|   Beatriz Dias| Gerencia| 5500.0|Recursos Humanos|    2011-09-22|\n",
            "| 17|Claudio Queiroz| Analista| 6500.0|        Projetos|    2011-01-04|\n",
            "|  8|     Cezar Maia| Gerencia| 7000.0|   Administracao|    2014-02-21|\n",
            "| 18|   Diego Chaves| Gerencia| 7500.0|   Administracao|    2009-10-25|\n",
            "+---+---------------+---------+-------+----------------+--------------+\n",
            "\n"
          ],
          "name": "stdout"
        }
      ]
    },
    {
      "cell_type": "code",
      "metadata": {
        "id": "DBWQfjD9nna0",
        "outputId": "60062357-679f-4f81-919c-1d343fdca87c",
        "colab": {
          "base_uri": "https://localhost:8080/"
        }
      },
      "source": [
        "df.orderBy(df.salario.desc()).show()"
      ],
      "execution_count": null,
      "outputs": [
        {
          "output_type": "stream",
          "text": [
            "+---+---------------+---------+-------+----------------+--------------+\n",
            "| id|           nome|    cargo|salario|    departamento|datadeadmissao|\n",
            "+---+---------------+---------+-------+----------------+--------------+\n",
            "| 18|   Diego Chaves| Gerencia| 7500.0|   Administracao|    2009-10-25|\n",
            "|  8|     Cezar Maia| Gerencia| 7000.0|   Administracao|    2014-02-21|\n",
            "| 17|Claudio Queiroz| Analista| 6500.0|        Projetos|    2011-01-04|\n",
            "|  4|   Beatriz Dias| Gerencia| 5500.0|Recursos Humanos|    2011-09-22|\n",
            "| 19|Sergio Nogueira|Instrutor| 5300.0|     Treinamento|    2008-10-25|\n",
            "|  7|   Cacio Farias| Analista| 5100.0|        Projetos|    2012-10-25|\n",
            "|  6|   Leticia Dias| Analista| 5100.0|        Projetos|    2012-04-26|\n",
            "|  1|  Marcio Santos| Analista| 5000.0|        Projetos|    2010-01-04|\n",
            "|  5| Sandro Correia|Instrutor| 4200.0|     Treinamento|    2012-02-15|\n",
            "| 13|  Luciana Prado| Analista| 4100.0|Recursos Humanos|    2015-09-17|\n",
            "|  2|   Bruno Garcia|Instrutor| 4000.0|     Treinamento|    2010-01-06|\n",
            "| 15|Rogerio Ribeiro|Instrutor| 4000.0|     Treinamento|    2010-08-04|\n",
            "| 11|     Carla Neto| Analista| 4000.0|        Projetos|    2015-02-17|\n",
            "| 20|  Samantha Reis|Vendedora| 4000.0|          Vendas|    2007-12-03|\n",
            "|  3|    Celia Silva|Vendedora| 3500.0|          Vendas|    2011-02-07|\n",
            "|  9|   Amanda Nunes|Vendedora| 3500.0|          Vendas|    2014-02-28|\n",
            "| 10|   Paula Priore|Vendedora| 3500.0|          Vendas|    2014-03-07|\n",
            "| 16|   Rosana Rocha|Vendedora| 3000.0|          Vendas|    2010-09-04|\n",
            "| 14| Roberta Amaral|Vendedora| 2800.0|          Vendas|    2015-10-17|\n",
            "| 12|   Marcia Costa|Vendedora| 2700.0|          Vendas|    2015-02-17|\n",
            "+---+---------------+---------+-------+----------------+--------------+\n",
            "\n"
          ],
          "name": "stdout"
        }
      ]
    },
    {
      "cell_type": "code",
      "metadata": {
        "id": "MzXGRjlmn11c"
      },
      "source": [
        "from pyspark.sql.functions import format_number, avg, stddev"
      ],
      "execution_count": null,
      "outputs": []
    },
    {
      "cell_type": "code",
      "metadata": {
        "id": "Ao6xkILcn78o"
      },
      "source": [
        "salario_std = df.select( stddev(\"salario\").alias('std') )"
      ],
      "execution_count": null,
      "outputs": []
    },
    {
      "cell_type": "code",
      "metadata": {
        "id": "5rz7GCJgoWXs",
        "outputId": "dfa5e76c-8e0c-4ead-cc8a-9fb1a28ffbe2",
        "colab": {
          "base_uri": "https://localhost:8080/"
        }
      },
      "source": [
        "salario_std.show()"
      ],
      "execution_count": null,
      "outputs": [
        {
          "output_type": "stream",
          "text": [
            "+----------------+\n",
            "|             std|\n",
            "+----------------+\n",
            "|1347.22912520086|\n",
            "+----------------+\n",
            "\n"
          ],
          "name": "stdout"
        }
      ]
    },
    {
      "cell_type": "code",
      "metadata": {
        "id": "0rLW3wOnoayW",
        "outputId": "3357e518-73d6-4873-c58c-101f08e3f55a",
        "colab": {
          "base_uri": "https://localhost:8080/"
        }
      },
      "source": [
        "salario_std.select( format_number('std', 2) ).show()"
      ],
      "execution_count": null,
      "outputs": [
        {
          "output_type": "stream",
          "text": [
            "+---------------------+\n",
            "|format_number(std, 2)|\n",
            "+---------------------+\n",
            "|             1,347.23|\n",
            "+---------------------+\n",
            "\n"
          ],
          "name": "stdout"
        }
      ]
    }
  ]
}