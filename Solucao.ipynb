{
  "nbformat": 4,
  "nbformat_minor": 0,
  "metadata": {
    "kernelspec": {
      "display_name": "Python 3",
      "language": "python",
      "name": "python3"
    },
    "language_info": {
      "codemirror_mode": {
        "name": "ipython",
        "version": 3
      },
      "file_extension": ".py",
      "mimetype": "text/x-python",
      "name": "python",
      "nbconvert_exporter": "python",
      "pygments_lexer": "ipython3",
      "version": "3.7.3"
    },
    "colab": {
      "name": "Solucao.ipynb",
      "provenance": [],
      "collapsed_sections": [],
      "include_colab_link": true
    }
  },
  "cells": [
    {
      "cell_type": "markdown",
      "metadata": {
        "id": "view-in-github",
        "colab_type": "text"
      },
      "source": [
        "<a href=\"https://colab.research.google.com/github/fredux/DevOps/blob/main/Solucao.ipynb\" target=\"_parent\"><img src=\"https://colab.research.google.com/assets/colab-badge.svg\" alt=\"Open In Colab\"/></a>"
      ]
    },
    {
      "cell_type": "code",
      "metadata": {
        "id": "P8ezD2sQ_6dj",
        "outputId": "f43eaebf-ba9e-4cfa-d25d-d1b89d588c75",
        "colab": {
          "base_uri": "https://localhost:8080/"
        }
      },
      "source": [
        "!apt-get update\n",
        "!apt-get install openjdk-8-jdk-headless -qq > /dev/null\n",
        "import os\n",
        "os.environ[\"JAVA_HOME\"] = \"/usr/lib/jvm/java-8-openjdk-amd64\"\n",
        "!update-alternatives --set java /usr/lib/jvm/java-8-openjdk-amd64/jre/bin/java\n",
        "!java -version"
      ],
      "execution_count": null,
      "outputs": [
        {
          "output_type": "stream",
          "text": [
            "\r0% [Working]\r            \rGet:1 http://security.ubuntu.com/ubuntu bionic-security InRelease [88.7 kB]\n",
            "\r0% [Connecting to archive.ubuntu.com (91.189.88.142)] [1 InRelease 8,379 B/88.7\r0% [Waiting for headers] [Waiting for headers] [Waiting for headers] [Waiting f\r                                                                               \rGet:2 https://cloud.r-project.org/bin/linux/ubuntu bionic-cran40/ InRelease [3,626 B]\n",
            "Ign:3 https://developer.download.nvidia.com/compute/cuda/repos/ubuntu1804/x86_64  InRelease\n",
            "Get:4 http://ppa.launchpad.net/c2d4u.team/c2d4u4.0+/ubuntu bionic InRelease [15.9 kB]\n",
            "Ign:5 https://developer.download.nvidia.com/compute/machine-learning/repos/ubuntu1804/x86_64  InRelease\n",
            "Hit:6 http://archive.ubuntu.com/ubuntu bionic InRelease\n",
            "Get:7 https://developer.download.nvidia.com/compute/cuda/repos/ubuntu1804/x86_64  Release [697 B]\n",
            "Hit:8 https://developer.download.nvidia.com/compute/machine-learning/repos/ubuntu1804/x86_64  Release\n",
            "Get:9 https://developer.download.nvidia.com/compute/cuda/repos/ubuntu1804/x86_64  Release.gpg [836 B]\n",
            "Get:10 http://archive.ubuntu.com/ubuntu bionic-updates InRelease [88.7 kB]\n",
            "Get:11 http://ppa.launchpad.net/graphics-drivers/ppa/ubuntu bionic InRelease [21.3 kB]\n",
            "Get:12 http://security.ubuntu.com/ubuntu bionic-security/main amd64 Packages [1,750 kB]\n",
            "Get:13 http://archive.ubuntu.com/ubuntu bionic-backports InRelease [74.6 kB]\n",
            "Get:14 http://security.ubuntu.com/ubuntu bionic-security/universe amd64 Packages [1,354 kB]\n",
            "Get:15 https://cloud.r-project.org/bin/linux/ubuntu bionic-cran40/ Packages [40.3 kB]\n",
            "Ign:17 https://developer.download.nvidia.com/compute/cuda/repos/ubuntu1804/x86_64  Packages\n",
            "Get:17 https://developer.download.nvidia.com/compute/cuda/repos/ubuntu1804/x86_64  Packages [405 kB]\n",
            "Get:18 http://ppa.launchpad.net/c2d4u.team/c2d4u4.0+/ubuntu bionic/main Sources [1,687 kB]\n",
            "Get:19 http://archive.ubuntu.com/ubuntu bionic-updates/universe amd64 Packages [2,119 kB]\n",
            "Get:20 http://archive.ubuntu.com/ubuntu bionic-updates/main amd64 Packages [2,167 kB]\n",
            "Get:21 http://ppa.launchpad.net/c2d4u.team/c2d4u4.0+/ubuntu bionic/main amd64 Packages [864 kB]\n",
            "Get:22 http://ppa.launchpad.net/graphics-drivers/ppa/ubuntu bionic/main amd64 Packages [48.9 kB]\n",
            "Fetched 10.7 MB in 4s (3,030 kB/s)\n",
            "Reading package lists... Done\n",
            "update-alternatives: using /usr/lib/jvm/java-8-openjdk-amd64/jre/bin/java to provide /usr/bin/java (java) in manual mode\n",
            "openjdk version \"1.8.0_272\"\n",
            "OpenJDK Runtime Environment (build 1.8.0_272-8u272-b10-0ubuntu1~18.04-b10)\n",
            "OpenJDK 64-Bit Server VM (build 25.272-b10, mixed mode)\n"
          ],
          "name": "stdout"
        }
      ]
    },
    {
      "cell_type": "code",
      "metadata": {
        "id": "CXKTTk2TAM0j",
        "outputId": "51546c8b-a649-4185-9987-40522c613f9b",
        "colab": {
          "base_uri": "https://localhost:8080/"
        }
      },
      "source": [
        "\n",
        "!pip install pyspark"
      ],
      "execution_count": null,
      "outputs": [
        {
          "output_type": "stream",
          "text": [
            "Collecting pyspark\n",
            "\u001b[?25l  Downloading https://files.pythonhosted.org/packages/f0/26/198fc8c0b98580f617cb03cb298c6056587b8f0447e20fa40c5b634ced77/pyspark-3.0.1.tar.gz (204.2MB)\n",
            "\u001b[K     |████████████████████████████████| 204.2MB 61kB/s \n",
            "\u001b[?25hCollecting py4j==0.10.9\n",
            "\u001b[?25l  Downloading https://files.pythonhosted.org/packages/9e/b6/6a4fb90cd235dc8e265a6a2067f2a2c99f0d91787f06aca4bcf7c23f3f80/py4j-0.10.9-py2.py3-none-any.whl (198kB)\n",
            "\u001b[K     |████████████████████████████████| 204kB 45.6MB/s \n",
            "\u001b[?25hBuilding wheels for collected packages: pyspark\n",
            "  Building wheel for pyspark (setup.py) ... \u001b[?25l\u001b[?25hdone\n",
            "  Created wheel for pyspark: filename=pyspark-3.0.1-py2.py3-none-any.whl size=204612243 sha256=133a046c3efa9b07e7c3cb564b0059196ef4876ede47c05e4dfe6dc6960fb3bc\n",
            "  Stored in directory: /root/.cache/pip/wheels/5e/bd/07/031766ca628adec8435bb40f0bd83bb676ce65ff4007f8e73f\n",
            "Successfully built pyspark\n",
            "Installing collected packages: py4j, pyspark\n",
            "Successfully installed py4j-0.10.9 pyspark-3.0.1\n"
          ],
          "name": "stdout"
        }
      ]
    },
    {
      "cell_type": "code",
      "metadata": {
        "id": "9oN8jVwb_9Ex",
        "outputId": "faf09d7d-10f5-4773-d3a4-8de12ef0db0a",
        "colab": {
          "base_uri": "https://localhost:8080/"
        }
      },
      "source": [
        "!git clone https://github.com/leonardoamorim/aulapython.git"
      ],
      "execution_count": null,
      "outputs": [
        {
          "output_type": "stream",
          "text": [
            "Cloning into 'aulapython'...\n",
            "remote: Enumerating objects: 51, done.\u001b[K\n",
            "remote: Counting objects: 100% (51/51), done.\u001b[K\n",
            "remote: Compressing objects: 100% (51/51), done.\u001b[K\n",
            "remote: Total 51 (delta 17), reused 0 (delta 0), pack-reused 0\u001b[K\n",
            "Unpacking objects: 100% (51/51), done.\n"
          ],
          "name": "stdout"
        }
      ]
    },
    {
      "cell_type": "code",
      "metadata": {
        "id": "c70A4zb9At6Q"
      },
      "source": [
        "! gunzip aulapython/NASA_access_log_Jul95.gz\n",
        "! gunzip aulapython/NASA_access_log_Aug95.gz"
      ],
      "execution_count": null,
      "outputs": []
    },
    {
      "cell_type": "code",
      "metadata": {
        "id": "YhycVjUH_2Jn"
      },
      "source": [
        "from pyspark import SparkConf, SparkContext\n",
        "from operator import add"
      ],
      "execution_count": null,
      "outputs": []
    },
    {
      "cell_type": "code",
      "metadata": {
        "id": "xkGm-m9-_2Jt"
      },
      "source": [
        "configuracao = (SparkConf().setMaster(\"local\").setAppName(\"Exercicio\")\n",
        "                .set(\"spark.executor.memory\", \"5g\"))"
      ],
      "execution_count": null,
      "outputs": []
    },
    {
      "cell_type": "code",
      "metadata": {
        "id": "tV4WqN2m_2Jx"
      },
      "source": [
        "sc = SparkContext(conf = configuracao)"
      ],
      "execution_count": null,
      "outputs": []
    },
    {
      "cell_type": "code",
      "metadata": {
        "id": "CMwWh0R-_2J0"
      },
      "source": [
        "julho = sc.textFile('aulapython/NASA_access_log_Jul95')\n",
        "agosto = sc.textFile('aulapython/NASA_access_log_Aug95')"
      ],
      "execution_count": null,
      "outputs": []
    },
    {
      "cell_type": "code",
      "metadata": {
        "id": "xTiLV-Ci_2J4"
      },
      "source": [
        "julho = julho.cache()\n",
        "agosto = agosto.cache()"
      ],
      "execution_count": null,
      "outputs": []
    },
    {
      "cell_type": "code",
      "metadata": {
        "id": "RwRsj1l4_2J7",
        "outputId": "faca0bb6-c184-4ecf-a8eb-737404794eaf",
        "colab": {
          "base_uri": "https://localhost:8080/"
        }
      },
      "source": [
        "# Numero de hosts distintos no mes de Julho\n",
        "contagem_julho = julho.map(lambda line: line.split(' ')[0]).distinct().count()\n",
        "print(\"Numero de hosts distintos no mes de Julho:\", contagem_julho)"
      ],
      "execution_count": null,
      "outputs": [
        {
          "output_type": "stream",
          "text": [
            "Numero de hosts distintos no mes de Julho: 81983\n"
          ],
          "name": "stdout"
        }
      ]
    },
    {
      "cell_type": "code",
      "metadata": {
        "id": "bUdYg4_w_2KA",
        "outputId": "7825623b-9ab5-4be7-a2a7-fa80df919853",
        "colab": {
          "base_uri": "https://localhost:8080/"
        }
      },
      "source": [
        "# Numero de hosts distintos no mes de Agosto\n",
        "contagem_agosto = agosto.map(lambda line: line.split(' ')[0]).distinct().count()\n",
        "print(\"Numero de hosts distintos no mes de Agosto:\", contagem_agosto)"
      ],
      "execution_count": null,
      "outputs": [
        {
          "output_type": "stream",
          "text": [
            "Numero de hosts distintos no mes de Agosto: 75060\n"
          ],
          "name": "stdout"
        }
      ]
    },
    {
      "cell_type": "code",
      "metadata": {
        "id": "P_TWXj75_2KD"
      },
      "source": [
        "# Funcao para verificar se em uma linha existe um codigohttp igual a 404\n",
        "def codigo404(linha):\n",
        "    try:\n",
        "        codigohttp = linha.split(' ')[-2]\n",
        "        if codigohttp == '404':\n",
        "            return True\n",
        "    except:\n",
        "        pass\n",
        "    return False"
      ],
      "execution_count": null,
      "outputs": []
    },
    {
      "cell_type": "code",
      "metadata": {
        "id": "UvyZPFMs_2KH"
      },
      "source": [
        "erros404_julho = julho.filter(codigo404).cache()\n",
        "erros404_agosto = agosto.filter(lambda linha: linha.split(' ')[-2] == '404').cache()"
      ],
      "execution_count": null,
      "outputs": []
    },
    {
      "cell_type": "code",
      "metadata": {
        "id": "CiKFJc8M_2KK",
        "outputId": "891e7094-6ee0-4842-9cb0-9d90603b2941",
        "colab": {
          "base_uri": "https://localhost:8080/"
        }
      },
      "source": [
        "print('Erros 404 em Julho: %s' % erros404_julho.count())"
      ],
      "execution_count": null,
      "outputs": [
        {
          "output_type": "stream",
          "text": [
            "Erros 404 em Julho: 10845\n"
          ],
          "name": "stdout"
        }
      ]
    },
    {
      "cell_type": "code",
      "metadata": {
        "id": "dcYfxnAw_2KN",
        "outputId": "a9e94ded-9e62-41aa-8688-3e1c9a89c26e",
        "colab": {
          "base_uri": "https://localhost:8080/"
        }
      },
      "source": [
        "print('Erros 404 em Agosto: %s' % erros404_agosto.count())"
      ],
      "execution_count": null,
      "outputs": [
        {
          "output_type": "stream",
          "text": [
            "Erros 404 em Agosto: 10056\n"
          ],
          "name": "stdout"
        }
      ]
    },
    {
      "cell_type": "code",
      "metadata": {
        "id": "tGIUjTWA_2KR"
      },
      "source": [
        "# Funcao para retornar os top5 urls com mais erros 404\n",
        "def top5_hosts404(rdd):\n",
        "    hosts = rdd.map(lambda linha: linha.split('\"')[1].split(' ')[1])\n",
        "    counts = hosts.map(lambda hosts: (hosts, 1)).reduceByKey(add)\n",
        "    top5 = counts.sortBy(lambda par: -par[1]).take(5)\n",
        "    \n",
        "    print('\\nTop 5 urls:')\n",
        "    for hosts, count in top5:\n",
        "        print(hosts, count)\n",
        "        \n",
        "    return top5"
      ],
      "execution_count": null,
      "outputs": []
    },
    {
      "cell_type": "code",
      "metadata": {
        "id": "jrBPH5fr_2KU",
        "outputId": "4c7cf8b9-5de8-4263-ac9e-6085bbd3af34",
        "colab": {
          "base_uri": "https://localhost:8080/"
        }
      },
      "source": [
        "top5_hosts404(erros404_julho)"
      ],
      "execution_count": null,
      "outputs": [
        {
          "output_type": "stream",
          "text": [
            "\n",
            "Top 5 urls:\n",
            "/pub/winvn/readme.txt 667\n",
            "/pub/winvn/release.txt 547\n",
            "/history/apollo/apollo-13.html 286\n",
            "/shuttle/resources/orbiters/atlantis.gif 232\n",
            "/history/apollo/a-001/a-001-patch-small.gif 230\n"
          ],
          "name": "stdout"
        },
        {
          "output_type": "execute_result",
          "data": {
            "text/plain": [
              "[('/pub/winvn/readme.txt', 667),\n",
              " ('/pub/winvn/release.txt', 547),\n",
              " ('/history/apollo/apollo-13.html', 286),\n",
              " ('/shuttle/resources/orbiters/atlantis.gif', 232),\n",
              " ('/history/apollo/a-001/a-001-patch-small.gif', 230)]"
            ]
          },
          "metadata": {
            "tags": []
          },
          "execution_count": 17
        }
      ]
    },
    {
      "cell_type": "code",
      "metadata": {
        "id": "9K4rAV3h_2KX",
        "outputId": "4b729901-3600-444b-dacb-ef8eae9babb5",
        "colab": {
          "base_uri": "https://localhost:8080/"
        }
      },
      "source": [
        "top5_hosts404(erros404_agosto)"
      ],
      "execution_count": null,
      "outputs": [
        {
          "output_type": "stream",
          "text": [
            "\n",
            "Top 5 urls:\n",
            "/pub/winvn/readme.txt 1337\n",
            "/pub/winvn/release.txt 1185\n",
            "/shuttle/missions/STS-69/mission-STS-69.html 683\n",
            "/images/nasa-logo.gif 319\n",
            "/shuttle/missions/sts-68/ksc-upclose.gif 253\n"
          ],
          "name": "stdout"
        },
        {
          "output_type": "execute_result",
          "data": {
            "text/plain": [
              "[('/pub/winvn/readme.txt', 1337),\n",
              " ('/pub/winvn/release.txt', 1185),\n",
              " ('/shuttle/missions/STS-69/mission-STS-69.html', 683),\n",
              " ('/images/nasa-logo.gif', 319),\n",
              " ('/shuttle/missions/sts-68/ksc-upclose.gif', 253)]"
            ]
          },
          "metadata": {
            "tags": []
          },
          "execution_count": 18
        }
      ]
    },
    {
      "cell_type": "code",
      "metadata": {
        "id": "smzCW6c9_2Kb"
      },
      "source": [
        "# Quantidade de erros 404 por dia\n",
        "def contador_dias_404(rdd):\n",
        "    dias = rdd.map(lambda linha: linha.split('[')[1].split(':')[0])\n",
        "    counts = dias.map(lambda dia: (dia, 1)).reduceByKey(add).collect()\n",
        "    return counts"
      ],
      "execution_count": null,
      "outputs": []
    },
    {
      "cell_type": "code",
      "metadata": {
        "id": "Wd2GgD4k_2Ke",
        "outputId": "93fd6734-4811-40bd-99fa-5a1abeef8c66",
        "colab": {
          "base_uri": "https://localhost:8080/"
        }
      },
      "source": [
        "contador_dias_404(erros404_julho)"
      ],
      "execution_count": null,
      "outputs": [
        {
          "output_type": "execute_result",
          "data": {
            "text/plain": [
              "[('13/Jul/1995', 532),\n",
              " ('21/Jul/1995', 334),\n",
              " ('25/Jul/1995', 461),\n",
              " ('09/Jul/1995', 348),\n",
              " ('15/Jul/1995', 254),\n",
              " ('16/Jul/1995', 257),\n",
              " ('18/Jul/1995', 465),\n",
              " ('17/Jul/1995', 406),\n",
              " ('07/Jul/1995', 570),\n",
              " ('12/Jul/1995', 471),\n",
              " ('19/Jul/1995', 639),\n",
              " ('22/Jul/1995', 192),\n",
              " ('23/Jul/1995', 233),\n",
              " ('03/Jul/1995', 474),\n",
              " ('05/Jul/1995', 497),\n",
              " ('10/Jul/1995', 398),\n",
              " ('14/Jul/1995', 413),\n",
              " ('01/Jul/1995', 316),\n",
              " ('02/Jul/1995', 291),\n",
              " ('04/Jul/1995', 359),\n",
              " ('06/Jul/1995', 640),\n",
              " ('08/Jul/1995', 302),\n",
              " ('11/Jul/1995', 471),\n",
              " ('20/Jul/1995', 428),\n",
              " ('24/Jul/1995', 328),\n",
              " ('26/Jul/1995', 336),\n",
              " ('27/Jul/1995', 336),\n",
              " ('28/Jul/1995', 94)]"
            ]
          },
          "metadata": {
            "tags": []
          },
          "execution_count": 20
        }
      ]
    },
    {
      "cell_type": "code",
      "metadata": {
        "id": "PuPmKlSx_2Kh",
        "outputId": "bff06731-97ac-47c0-d42d-4e034d3c9f14",
        "colab": {
          "base_uri": "https://localhost:8080/"
        }
      },
      "source": [
        "contador_dias_404(erros404_agosto)"
      ],
      "execution_count": null,
      "outputs": [
        {
          "output_type": "execute_result",
          "data": {
            "text/plain": [
              "[('01/Aug/1995', 243),\n",
              " ('07/Aug/1995', 537),\n",
              " ('09/Aug/1995', 279),\n",
              " ('10/Aug/1995', 315),\n",
              " ('21/Aug/1995', 305),\n",
              " ('27/Aug/1995', 370),\n",
              " ('30/Aug/1995', 571),\n",
              " ('03/Aug/1995', 304),\n",
              " ('06/Aug/1995', 373),\n",
              " ('08/Aug/1995', 391),\n",
              " ('16/Aug/1995', 259),\n",
              " ('20/Aug/1995', 312),\n",
              " ('05/Aug/1995', 236),\n",
              " ('11/Aug/1995', 263),\n",
              " ('12/Aug/1995', 196),\n",
              " ('13/Aug/1995', 216),\n",
              " ('15/Aug/1995', 327),\n",
              " ('17/Aug/1995', 271),\n",
              " ('22/Aug/1995', 288),\n",
              " ('23/Aug/1995', 345),\n",
              " ('24/Aug/1995', 420),\n",
              " ('26/Aug/1995', 366),\n",
              " ('28/Aug/1995', 410),\n",
              " ('14/Aug/1995', 287),\n",
              " ('18/Aug/1995', 256),\n",
              " ('19/Aug/1995', 209),\n",
              " ('31/Aug/1995', 526),\n",
              " ('04/Aug/1995', 346),\n",
              " ('25/Aug/1995', 415),\n",
              " ('29/Aug/1995', 420)]"
            ]
          },
          "metadata": {
            "tags": []
          },
          "execution_count": 21
        }
      ]
    },
    {
      "cell_type": "code",
      "metadata": {
        "id": "--vnX7zJ_2Kl"
      },
      "source": [
        "# Quantidade de bytes acumulados \n",
        "def quantidade_bytes_acumulados(rdd):\n",
        "    def contador(linha):\n",
        "        try:\n",
        "            count = int(linha.split(\" \")[-1])\n",
        "            if count < 0:\n",
        "                raise ValueError()\n",
        "            return count\n",
        "        except:\n",
        "            return 0\n",
        "        \n",
        "    count = rdd.map(contador).reduce(add)\n",
        "    return count"
      ],
      "execution_count": null,
      "outputs": []
    },
    {
      "cell_type": "code",
      "metadata": {
        "id": "1P-nABmJ_2Ko",
        "outputId": "1d6de2e5-a04d-42d9-fa70-32d90dec3934",
        "colab": {
          "base_uri": "https://localhost:8080/"
        }
      },
      "source": [
        "print('Quantidade de bytes total em Julho: %s' % quantidade_bytes_acumulados(julho))"
      ],
      "execution_count": null,
      "outputs": [
        {
          "output_type": "stream",
          "text": [
            "Quantidade de bytes total em Julho: 38695973491\n"
          ],
          "name": "stdout"
        }
      ]
    },
    {
      "cell_type": "code",
      "metadata": {
        "id": "U7pqpoPZ_2Kr",
        "outputId": "35e2d9bb-aac8-4fad-a4af-37a21e8a609b",
        "colab": {
          "base_uri": "https://localhost:8080/"
        }
      },
      "source": [
        "print('Quantidade de bytes total em Agosto: %s' % quantidade_bytes_acumulados(agosto))"
      ],
      "execution_count": null,
      "outputs": [
        {
          "output_type": "stream",
          "text": [
            "Quantidade de bytes total em Agosto: 26828341424\n"
          ],
          "name": "stdout"
        }
      ]
    },
    {
      "cell_type": "code",
      "metadata": {
        "id": "imySXJev_2Kw"
      },
      "source": [
        "sc.stop()"
      ],
      "execution_count": null,
      "outputs": []
    }
  ]
}